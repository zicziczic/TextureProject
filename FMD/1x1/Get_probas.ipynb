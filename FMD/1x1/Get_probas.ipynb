{
 "cells": [
  {
   "cell_type": "markdown",
   "metadata": {},
   "source": [
    "# IMPORTS"
   ]
  },
  {
   "cell_type": "code",
   "execution_count": 1,
   "metadata": {},
   "outputs": [],
   "source": [
    "import pandas as pd\n",
    "import os\n",
    "import glob\n",
    "import sklearn\n",
    "import numpy as np\n",
    "from sklearn.preprocessing import StandardScaler\n",
    "from sklearn.model_selection import GridSearchCV, StratifiedKFold\n",
    "from sklearn.neural_network import MLPClassifier\n",
    "from sklearn.metrics import classification_report, accuracy_score, confusion_matrix, f1_score\n",
    "from sklearn.svm import SVC\n",
    "import joblib"
   ]
  },
  {
   "cell_type": "code",
   "execution_count": 4,
   "metadata": {},
   "outputs": [],
   "source": [
    "folder_base = './'\n",
    "txt_files = glob.glob(os.path.join(folder_base, \"*.txt\"))"
   ]
  },
  {
   "cell_type": "code",
   "execution_count": 5,
   "metadata": {},
   "outputs": [],
   "source": [
    "df = pd.read_csv(txt_files[0], delimiter=' ', header=None)"
   ]
  },
  {
   "cell_type": "code",
   "execution_count": 9,
   "metadata": {},
   "outputs": [],
   "source": [
    "classes = df.iloc[:, -4].unique().tolist()"
   ]
  },
  {
   "cell_type": "markdown",
   "metadata": {},
   "source": [
    "# UTILS"
   ]
  },
  {
   "cell_type": "code",
   "execution_count": 11,
   "metadata": {},
   "outputs": [],
   "source": [
    "sc = StandardScaler()"
   ]
  },
  {
   "cell_type": "code",
   "execution_count": 13,
   "metadata": {},
   "outputs": [],
   "source": [
    "def preprocess_data(file_path, folder_base):\n",
    "    \n",
    "    name = file_path.rsplit(\"_\")[1] #Nome Extrator\n",
    "    base = file_path.rsplit(\"_\")[0]\n",
    "    base = base.rsplit('\\\\')[1]\n",
    "    \n",
    "    df = pd.read_csv(file_path, delimiter=\" \", header=None)\n",
    "    df = df.iloc[:, :-2]\n",
    "    df.iloc[:, -1] = df.iloc[:, -1].str.rsplit(\".\").str[0]\n",
    "    df[\"numero\"] = df.iloc[:, -1].str.rsplit(\"_\").str[2]\n",
    "    df[\"classe\"] = df.iloc[:, -3]\n",
    "    df.drop(df.columns[-3], inplace=True, axis=1)\n",
    "    df.drop(df.columns[-3], inplace=True, axis=1)\n",
    "    classes = df[\"classe\"].unique()\n",
    "    df[\"classe\"] = df[\"classe\"].astype('category')\n",
    "    df[\"classe\"] = df[\"classe\"].cat.codes\n",
    "    df.sort_values(by=\"classe\", ascending=True)\n",
    "    df.reset_index(drop=True, inplace=True)\n",
    "    df[\"ordem\"] = df.index\n",
    "    \n",
    "    return df, name, base"
   ]
  },
  {
   "cell_type": "code",
   "execution_count": 14,
   "metadata": {},
   "outputs": [],
   "source": [
    "def read_data(df):\n",
    "    X = df.iloc[:, :-3]\n",
    "    y = df.iloc[:, -2]\n",
    "    ids = df.iloc[:, -1]\n",
    "    return X, y, ids"
   ]
  },
  {
   "cell_type": "code",
   "execution_count": 15,
   "metadata": {},
   "outputs": [],
   "source": [
    "def predict_stratified(model, X_test, y_test):\n",
    "    y_pred = model.predict_proba(X_test)\n",
    "    \n",
    "    return y_pred"
   ]
  },
  {
   "cell_type": "code",
   "execution_count": 16,
   "metadata": {},
   "outputs": [],
   "source": [
    "def concat(y_test, y_pred):\n",
    "    y_test = y_test.reset_index(drop=True)\n",
    "    \n",
    "    prob_df2 = pd.DataFrame(y_pred, columns=classes)\n",
    "\n",
    "    prob_df2 = prob_df2.round(5)\n",
    "    \n",
    "    frames = [prob_df2,y_test]\n",
    "    info_resp = pd.concat(frames,axis=1)\n",
    "    \n",
    "    return info_resp"
   ]
  },
  {
   "cell_type": "code",
   "execution_count": 17,
   "metadata": {},
   "outputs": [],
   "source": [
    "def fit_svm_stratified(X_train, y_train):\n",
    "    modelo = \"svm\"\n",
    "    \n",
    "    svc = SVC(probability=True)\n",
    "    \n",
    "    param_grid = {\n",
    "        'C': [0.001, 0.1, 1, 10, 100],\n",
    "        'kernel': ['rbf'],\n",
    "        'gamma': ['scale', 'auto']\n",
    "    }\n",
    "\n",
    "    # Set up the GridSearchCV\n",
    "    grid_search = GridSearchCV(estimator=svc, param_grid=param_grid, cv=5, n_jobs=-1, verbose=2, scoring='f1_weighted')\n",
    "\n",
    "    # Fit the grid search to the training data\n",
    "    best_model = grid_search.fit(X_train, y_train)\n",
    "\n",
    "    #joblib.dump(best_model,models+'best_'+ extractor +\"_\"+modelo+\"_\"+str(iteration)+'.pkl')\n",
    "\n",
    "    return best_model"
   ]
  },
  {
   "cell_type": "code",
   "execution_count": 18,
   "metadata": {},
   "outputs": [],
   "source": [
    "def fit_stratified(X,y,ids,data,save_probs, extractor, base):\n",
    "    X = sc.fit_transform(X)\n",
    "    \n",
    "    skf = StratifiedKFold(n_splits=10)\n",
    "    skf.get_n_splits(X, y)\n",
    "    \n",
    "    prob_columns = ['fabric', 'foliage', 'glass', 'leather', 'metal', 'paper',\n",
    "       'plastic', 'stone', 'water', 'wood', 'classe', 'numero', 'ordem']\n",
    "\n",
    "    dummy_df = pd.DataFrame(columns=prob_columns)\n",
    "    \n",
    "    for i, (train_index, test_index) in enumerate(skf.split(X, y)):\n",
    "        dados2 = data.iloc[test_index, -3:-1]\n",
    "        dados2[\"ordem\"] = data.iloc[:, -1]\n",
    "        dados = dados2.reset_index(drop=True)\n",
    "        \n",
    "        X_train = X[train_index]\n",
    "        y_train = y[train_index]\n",
    "        \n",
    "        X_test = X[test_index]\n",
    "        y_test = y[test_index]\n",
    "        \n",
    "        model = fit_svm_stratified(X_train, y_train)\n",
    "        \n",
    "        y_pred = predict_stratified(model, X_test, y_test)\n",
    "        res = concat(y_test, y_pred)\n",
    "        \n",
    "        prob_prediction = pd.DataFrame(data=res, columns=classes).reset_index(drop=True)\n",
    "        labels = pd.DataFrame(data=y_test).reset_index(drop=True)\n",
    "\n",
    "        tudo = pd.concat([prob_prediction, dados], axis=1)\n",
    "        dummy_df = pd.concat([dummy_df, tudo], axis=0)\n",
    "        #tudo.to_csv(path_save_proba_test +tipo+\"_\"+\"tudo_\"+ extractor +\"_\"+ str(j) + \".csv\", index=False)\n",
    "    \n",
    "    dummy_df.to_csv(save_probs +base+\"_\"+extractor +\"_1x1\"+\".csv\", index=False)\n",
    "    return "
   ]
  },
  {
   "cell_type": "markdown",
   "metadata": {},
   "source": [
    "# MAIN"
   ]
  },
  {
   "cell_type": "code",
   "execution_count": 19,
   "metadata": {},
   "outputs": [
    {
     "name": "stdout",
     "output_type": "stream",
     "text": [
      "Fitting 5 folds for each of 10 candidates, totalling 50 fits\n",
      "Fitting 5 folds for each of 10 candidates, totalling 50 fits\n",
      "Fitting 5 folds for each of 10 candidates, totalling 50 fits\n",
      "Fitting 5 folds for each of 10 candidates, totalling 50 fits\n",
      "Fitting 5 folds for each of 10 candidates, totalling 50 fits\n",
      "Fitting 5 folds for each of 10 candidates, totalling 50 fits\n",
      "Fitting 5 folds for each of 10 candidates, totalling 50 fits\n",
      "Fitting 5 folds for each of 10 candidates, totalling 50 fits\n",
      "Fitting 5 folds for each of 10 candidates, totalling 50 fits\n",
      "Fitting 5 folds for each of 10 candidates, totalling 50 fits\n"
     ]
    }
   ],
   "source": [
    "save_probs = './probs/'\n",
    "if not os.path.exists(save_probs):\n",
    "    os.makedirs(save_probs)\n",
    "\n",
    "\n",
    "for file_path in txt_files:\n",
    "    df, extractor, base = preprocess_data(file_path, txt_files)\n",
    "    X,y,ids = read_data(df)\n",
    "    fit_stratified(X,y,ids,df,save_probs, extractor, base)\n",
    "    "
   ]
  },
  {
   "cell_type": "code",
   "execution_count": null,
   "metadata": {},
   "outputs": [],
   "source": []
  }
 ],
 "metadata": {
  "kernelspec": {
   "display_name": "base",
   "language": "python",
   "name": "python3"
  },
  "language_info": {
   "codemirror_mode": {
    "name": "ipython",
    "version": 3
   },
   "file_extension": ".py",
   "mimetype": "text/x-python",
   "name": "python",
   "nbconvert_exporter": "python",
   "pygments_lexer": "ipython3",
   "version": "3.11.5"
  }
 },
 "nbformat": 4,
 "nbformat_minor": 2
}
